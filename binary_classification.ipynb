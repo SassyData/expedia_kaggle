{
 "cells": [
  {
   "cell_type": "markdown",
   "metadata": {},
   "source": [
    "### ML Approach  \n",
    "Using ML to predict chance of booking, then ranking according to the probability. \n"
   ]
  },
  {
   "cell_type": "code",
   "execution_count": 90,
   "metadata": {},
   "outputs": [],
   "source": [
    "import os\n",
    "import pandas as pd\n",
    "import numpy as np\n",
    "import matplotlib.pyplot as plt\n",
    "import pickle\n",
    "from random import sample\n",
    "from sklearn.linear_model import LogisticRegression\n",
    "from sklearn import tree\n",
    "from sklearn.ensemble import RandomForestClassifier\n",
    "from sklearn.svm import SVC\n",
    "from sklearn.neighbors import KNeighborsClassifier\n",
    "from sklearn.naive_bayes import GaussianNB\n",
    "from sklearn.model_selection import cross_val_score, train_test_split\n",
    "from sklearn.decomposition import PCA\n",
    "from sklearn import metrics\n",
    "from imblearn.combine import SMOTETomek\n",
    "from IPython.display import Image  \n",
    "from datetime import datetime\n",
    "\n",
    "from proj_fns import preprocess_step"
   ]
  },
  {
   "cell_type": "code",
   "execution_count": 91,
   "metadata": {},
   "outputs": [
    {
     "data": {
      "text/plain": [
       "'0.23.1'"
      ]
     },
     "execution_count": 91,
     "metadata": {},
     "output_type": "execute_result"
    }
   ],
   "source": [
    "# Verify its using version == 0.23.1, to ensure compatable with imblearn\n",
    "import sklearn\n",
    "sklearn.__version__"
   ]
  },
  {
   "cell_type": "markdown",
   "metadata": {},
   "source": [
    "### Preprocessing / Feature engineering\n",
    "\n",
    "0. Remove unique identifier (search id)\n",
    "1. Remove Long & lat explained by destination id (high corr)\n",
    "2. a) Take out 'srch_visitor_wr_member' because 57% missing, or b) split out info in 'srch_visitor_wr_member'\n",
    "3. Bucket 'srch_ci'\n",
    "4. remove 'price_without_discount_local' & 'price_with_discount_local', only keep USD version of price to be comparible\n",
    "5. Subset to only 'booking_bool' True? or resample to increase true & decrease false? ***\n",
    "6. Most common checkin month from 'srch_ci'\n",
    "7. Weekday vs weekend checkin fom srch_ci_day *\n",
    "8. Split price - prop_price_without_discount_usd - into bands"
   ]
  },
  {
   "cell_type": "code",
   "execution_count": 145,
   "metadata": {},
   "outputs": [
    {
     "data": {
      "text/plain": [
       "(841115, 47)"
      ]
     },
     "execution_count": 145,
     "metadata": {},
     "output_type": "execute_result"
    }
   ],
   "source": [
    "train_raw = pd.read_csv(\"data/train.csv\")\n",
    "train_raw.shape"
   ]
  },
  {
   "cell_type": "code",
   "execution_count": 146,
   "metadata": {},
   "outputs": [
    {
     "ename": "KeyboardInterrupt",
     "evalue": "",
     "output_type": "error",
     "traceback": [
      "\u001b[0;31m---------------------------------------------------------------------------\u001b[0m",
      "\u001b[0;31mKeyboardInterrupt\u001b[0m                         Traceback (most recent call last)",
      "\u001b[0;32m<ipython-input-146-2d0807eed041>\u001b[0m in \u001b[0;36m<module>\u001b[0;34m\u001b[0m\n\u001b[0;32m----> 1\u001b[0;31m \u001b[0mtrain_preprocessed\u001b[0m \u001b[0;34m=\u001b[0m \u001b[0mpreprocess_step\u001b[0m\u001b[0;34m(\u001b[0m\u001b[0mtrain_raw\u001b[0m\u001b[0;34m)\u001b[0m\u001b[0;34m\u001b[0m\u001b[0;34m\u001b[0m\u001b[0m\n\u001b[0m\u001b[1;32m      2\u001b[0m \u001b[0mtrain_preprocessed\u001b[0m\u001b[0;34m.\u001b[0m\u001b[0mshape\u001b[0m\u001b[0;34m\u001b[0m\u001b[0;34m\u001b[0m\u001b[0m\n",
      "\u001b[0;32m~/Desktop/expedia_kaggle/proj_fns.py\u001b[0m in \u001b[0;36mpreprocess_step\u001b[0;34m(train_raw)\u001b[0m\n\u001b[1;32m     64\u001b[0m \u001b[0;34m\u001b[0m\u001b[0m\n\u001b[1;32m     65\u001b[0m     \u001b[0;31m# Calculate Property discount\u001b[0m\u001b[0;34m\u001b[0m\u001b[0;34m\u001b[0m\u001b[0;34m\u001b[0m\u001b[0m\n\u001b[0;32m---> 66\u001b[0;31m     train_raw['prop_discount'] = train_raw.apply(lambda x: round(x.prop_price_with_discount_usd /\n\u001b[0m\u001b[1;32m     67\u001b[0m                                                                  (x.prop_price_without_discount_usd + 0.01), 2) * 100,\n\u001b[1;32m     68\u001b[0m                                                  axis=1)\n",
      "\u001b[0;32m~/opt/anaconda3/envs/expedia_kaggle/lib/python3.6/site-packages/pandas/core/frame.py\u001b[0m in \u001b[0;36mapply\u001b[0;34m(self, func, axis, raw, result_type, args, **kwds)\u001b[0m\n\u001b[1;32m   7546\u001b[0m             \u001b[0mkwds\u001b[0m\u001b[0;34m=\u001b[0m\u001b[0mkwds\u001b[0m\u001b[0;34m,\u001b[0m\u001b[0;34m\u001b[0m\u001b[0;34m\u001b[0m\u001b[0m\n\u001b[1;32m   7547\u001b[0m         )\n\u001b[0;32m-> 7548\u001b[0;31m         \u001b[0;32mreturn\u001b[0m \u001b[0mop\u001b[0m\u001b[0;34m.\u001b[0m\u001b[0mget_result\u001b[0m\u001b[0;34m(\u001b[0m\u001b[0;34m)\u001b[0m\u001b[0;34m\u001b[0m\u001b[0;34m\u001b[0m\u001b[0m\n\u001b[0m\u001b[1;32m   7549\u001b[0m \u001b[0;34m\u001b[0m\u001b[0m\n\u001b[1;32m   7550\u001b[0m     \u001b[0;32mdef\u001b[0m \u001b[0mapplymap\u001b[0m\u001b[0;34m(\u001b[0m\u001b[0mself\u001b[0m\u001b[0;34m,\u001b[0m \u001b[0mfunc\u001b[0m\u001b[0;34m)\u001b[0m \u001b[0;34m->\u001b[0m \u001b[0;34m\"DataFrame\"\u001b[0m\u001b[0;34m:\u001b[0m\u001b[0;34m\u001b[0m\u001b[0;34m\u001b[0m\u001b[0m\n",
      "\u001b[0;32m~/opt/anaconda3/envs/expedia_kaggle/lib/python3.6/site-packages/pandas/core/apply.py\u001b[0m in \u001b[0;36mget_result\u001b[0;34m(self)\u001b[0m\n\u001b[1;32m    178\u001b[0m             \u001b[0;32mreturn\u001b[0m \u001b[0mself\u001b[0m\u001b[0;34m.\u001b[0m\u001b[0mapply_raw\u001b[0m\u001b[0;34m(\u001b[0m\u001b[0;34m)\u001b[0m\u001b[0;34m\u001b[0m\u001b[0;34m\u001b[0m\u001b[0m\n\u001b[1;32m    179\u001b[0m \u001b[0;34m\u001b[0m\u001b[0m\n\u001b[0;32m--> 180\u001b[0;31m         \u001b[0;32mreturn\u001b[0m \u001b[0mself\u001b[0m\u001b[0;34m.\u001b[0m\u001b[0mapply_standard\u001b[0m\u001b[0;34m(\u001b[0m\u001b[0;34m)\u001b[0m\u001b[0;34m\u001b[0m\u001b[0;34m\u001b[0m\u001b[0m\n\u001b[0m\u001b[1;32m    181\u001b[0m \u001b[0;34m\u001b[0m\u001b[0m\n\u001b[1;32m    182\u001b[0m     \u001b[0;32mdef\u001b[0m \u001b[0mapply_empty_result\u001b[0m\u001b[0;34m(\u001b[0m\u001b[0mself\u001b[0m\u001b[0;34m)\u001b[0m\u001b[0;34m:\u001b[0m\u001b[0;34m\u001b[0m\u001b[0;34m\u001b[0m\u001b[0m\n",
      "\u001b[0;32m~/opt/anaconda3/envs/expedia_kaggle/lib/python3.6/site-packages/pandas/core/apply.py\u001b[0m in \u001b[0;36mapply_standard\u001b[0;34m(self)\u001b[0m\n\u001b[1;32m    272\u001b[0m \u001b[0;34m\u001b[0m\u001b[0m\n\u001b[1;32m    273\u001b[0m         \u001b[0;31m# wrap results\u001b[0m\u001b[0;34m\u001b[0m\u001b[0;34m\u001b[0m\u001b[0;34m\u001b[0m\u001b[0m\n\u001b[0;32m--> 274\u001b[0;31m         \u001b[0;32mreturn\u001b[0m \u001b[0mself\u001b[0m\u001b[0;34m.\u001b[0m\u001b[0mwrap_results\u001b[0m\u001b[0;34m(\u001b[0m\u001b[0mresults\u001b[0m\u001b[0;34m,\u001b[0m \u001b[0mres_index\u001b[0m\u001b[0;34m)\u001b[0m\u001b[0;34m\u001b[0m\u001b[0;34m\u001b[0m\u001b[0m\n\u001b[0m\u001b[1;32m    275\u001b[0m \u001b[0;34m\u001b[0m\u001b[0m\n\u001b[1;32m    276\u001b[0m     \u001b[0;32mdef\u001b[0m \u001b[0mapply_series_generator\u001b[0m\u001b[0;34m(\u001b[0m\u001b[0mself\u001b[0m\u001b[0;34m)\u001b[0m \u001b[0;34m->\u001b[0m \u001b[0mTuple\u001b[0m\u001b[0;34m[\u001b[0m\u001b[0mResType\u001b[0m\u001b[0;34m,\u001b[0m \u001b[0;34m\"Index\"\u001b[0m\u001b[0;34m]\u001b[0m\u001b[0;34m:\u001b[0m\u001b[0;34m\u001b[0m\u001b[0;34m\u001b[0m\u001b[0m\n",
      "\u001b[0;32m~/opt/anaconda3/envs/expedia_kaggle/lib/python3.6/site-packages/pandas/core/apply.py\u001b[0m in \u001b[0;36mwrap_results\u001b[0;34m(self, results, res_index)\u001b[0m\n\u001b[1;32m    323\u001b[0m         \u001b[0;32mif\u001b[0m \u001b[0mconstructor_sliced\u001b[0m \u001b[0;32mis\u001b[0m \u001b[0mSeries\u001b[0m\u001b[0;34m:\u001b[0m\u001b[0;34m\u001b[0m\u001b[0;34m\u001b[0m\u001b[0m\n\u001b[1;32m    324\u001b[0m             result = create_series_with_explicit_dtype(\n\u001b[0;32m--> 325\u001b[0;31m                 \u001b[0mresults\u001b[0m\u001b[0;34m,\u001b[0m \u001b[0mdtype_if_empty\u001b[0m\u001b[0;34m=\u001b[0m\u001b[0mnp\u001b[0m\u001b[0;34m.\u001b[0m\u001b[0mfloat64\u001b[0m\u001b[0;34m\u001b[0m\u001b[0;34m\u001b[0m\u001b[0m\n\u001b[0m\u001b[1;32m    326\u001b[0m             )\n\u001b[1;32m    327\u001b[0m         \u001b[0;32melse\u001b[0m\u001b[0;34m:\u001b[0m\u001b[0;34m\u001b[0m\u001b[0;34m\u001b[0m\u001b[0m\n",
      "\u001b[0;32m~/opt/anaconda3/envs/expedia_kaggle/lib/python3.6/site-packages/pandas/core/construction.py\u001b[0m in \u001b[0;36mcreate_series_with_explicit_dtype\u001b[0;34m(data, index, dtype, name, copy, fastpath, dtype_if_empty)\u001b[0m\n\u001b[1;32m    633\u001b[0m         \u001b[0mdtype\u001b[0m \u001b[0;34m=\u001b[0m \u001b[0mdtype_if_empty\u001b[0m\u001b[0;34m\u001b[0m\u001b[0;34m\u001b[0m\u001b[0m\n\u001b[1;32m    634\u001b[0m     return Series(\n\u001b[0;32m--> 635\u001b[0;31m         \u001b[0mdata\u001b[0m\u001b[0;34m=\u001b[0m\u001b[0mdata\u001b[0m\u001b[0;34m,\u001b[0m \u001b[0mindex\u001b[0m\u001b[0;34m=\u001b[0m\u001b[0mindex\u001b[0m\u001b[0;34m,\u001b[0m \u001b[0mdtype\u001b[0m\u001b[0;34m=\u001b[0m\u001b[0mdtype\u001b[0m\u001b[0;34m,\u001b[0m \u001b[0mname\u001b[0m\u001b[0;34m=\u001b[0m\u001b[0mname\u001b[0m\u001b[0;34m,\u001b[0m \u001b[0mcopy\u001b[0m\u001b[0;34m=\u001b[0m\u001b[0mcopy\u001b[0m\u001b[0;34m,\u001b[0m \u001b[0mfastpath\u001b[0m\u001b[0;34m=\u001b[0m\u001b[0mfastpath\u001b[0m\u001b[0;34m\u001b[0m\u001b[0;34m\u001b[0m\u001b[0m\n\u001b[0m\u001b[1;32m    636\u001b[0m     )\n",
      "\u001b[0;32m~/opt/anaconda3/envs/expedia_kaggle/lib/python3.6/site-packages/pandas/core/series.py\u001b[0m in \u001b[0;36m__init__\u001b[0;34m(self, data, index, dtype, name, copy, fastpath)\u001b[0m\n\u001b[1;32m    279\u001b[0m                 \u001b[0mdata\u001b[0m \u001b[0;34m=\u001b[0m \u001b[0mdata\u001b[0m\u001b[0;34m.\u001b[0m\u001b[0m_mgr\u001b[0m\u001b[0;34m\u001b[0m\u001b[0;34m\u001b[0m\u001b[0m\n\u001b[1;32m    280\u001b[0m             \u001b[0;32melif\u001b[0m \u001b[0mis_dict_like\u001b[0m\u001b[0;34m(\u001b[0m\u001b[0mdata\u001b[0m\u001b[0;34m)\u001b[0m\u001b[0;34m:\u001b[0m\u001b[0;34m\u001b[0m\u001b[0;34m\u001b[0m\u001b[0m\n\u001b[0;32m--> 281\u001b[0;31m                 \u001b[0mdata\u001b[0m\u001b[0;34m,\u001b[0m \u001b[0mindex\u001b[0m \u001b[0;34m=\u001b[0m \u001b[0mself\u001b[0m\u001b[0;34m.\u001b[0m\u001b[0m_init_dict\u001b[0m\u001b[0;34m(\u001b[0m\u001b[0mdata\u001b[0m\u001b[0;34m,\u001b[0m \u001b[0mindex\u001b[0m\u001b[0;34m,\u001b[0m \u001b[0mdtype\u001b[0m\u001b[0;34m)\u001b[0m\u001b[0;34m\u001b[0m\u001b[0;34m\u001b[0m\u001b[0m\n\u001b[0m\u001b[1;32m    282\u001b[0m                 \u001b[0mdtype\u001b[0m \u001b[0;34m=\u001b[0m \u001b[0;32mNone\u001b[0m\u001b[0;34m\u001b[0m\u001b[0;34m\u001b[0m\u001b[0m\n\u001b[1;32m    283\u001b[0m                 \u001b[0mcopy\u001b[0m \u001b[0;34m=\u001b[0m \u001b[0;32mFalse\u001b[0m\u001b[0;34m\u001b[0m\u001b[0;34m\u001b[0m\u001b[0m\n",
      "\u001b[0;32m~/opt/anaconda3/envs/expedia_kaggle/lib/python3.6/site-packages/pandas/core/series.py\u001b[0m in \u001b[0;36m_init_dict\u001b[0;34m(self, data, index, dtype)\u001b[0m\n\u001b[1;32m    355\u001b[0m         \u001b[0;31m# raises KeyError), so we iterate the entire dict, and align\u001b[0m\u001b[0;34m\u001b[0m\u001b[0;34m\u001b[0m\u001b[0;34m\u001b[0m\u001b[0m\n\u001b[1;32m    356\u001b[0m         \u001b[0;32mif\u001b[0m \u001b[0mdata\u001b[0m\u001b[0;34m:\u001b[0m\u001b[0;34m\u001b[0m\u001b[0;34m\u001b[0m\u001b[0m\n\u001b[0;32m--> 357\u001b[0;31m             \u001b[0mkeys\u001b[0m\u001b[0;34m,\u001b[0m \u001b[0mvalues\u001b[0m \u001b[0;34m=\u001b[0m \u001b[0mzip\u001b[0m\u001b[0;34m(\u001b[0m\u001b[0;34m*\u001b[0m\u001b[0mdata\u001b[0m\u001b[0;34m.\u001b[0m\u001b[0mitems\u001b[0m\u001b[0;34m(\u001b[0m\u001b[0;34m)\u001b[0m\u001b[0;34m)\u001b[0m\u001b[0;34m\u001b[0m\u001b[0;34m\u001b[0m\u001b[0m\n\u001b[0m\u001b[1;32m    358\u001b[0m             \u001b[0mvalues\u001b[0m \u001b[0;34m=\u001b[0m \u001b[0mlist\u001b[0m\u001b[0;34m(\u001b[0m\u001b[0mvalues\u001b[0m\u001b[0;34m)\u001b[0m\u001b[0;34m\u001b[0m\u001b[0;34m\u001b[0m\u001b[0m\n\u001b[1;32m    359\u001b[0m         \u001b[0;32melif\u001b[0m \u001b[0mindex\u001b[0m \u001b[0;32mis\u001b[0m \u001b[0;32mnot\u001b[0m \u001b[0;32mNone\u001b[0m\u001b[0;34m:\u001b[0m\u001b[0;34m\u001b[0m\u001b[0;34m\u001b[0m\u001b[0m\n",
      "\u001b[0;31mKeyboardInterrupt\u001b[0m: "
     ]
    }
   ],
   "source": [
    "train_preprocessed = preprocess_step(train_raw)\n",
    "train_preprocessed.shape"
   ]
  },
  {
   "cell_type": "code",
   "execution_count": null,
   "metadata": {},
   "outputs": [],
   "source": [
    "train_preprocessed.head()"
   ]
  },
  {
   "cell_type": "code",
   "execution_count": 17,
   "metadata": {},
   "outputs": [],
   "source": [
    "train_preprocessed.to_csv('data/train_preprocessed.csv', header=True, index=False)"
   ]
  },
  {
   "cell_type": "markdown",
   "metadata": {},
   "source": [
    "### Train / Test "
   ]
  },
  {
   "cell_type": "code",
   "execution_count": 179,
   "metadata": {},
   "outputs": [],
   "source": [
    "train_preprocessed = pd.read_csv('data/train_preprocessed.csv')"
   ]
  },
  {
   "cell_type": "code",
   "execution_count": 180,
   "metadata": {},
   "outputs": [
    {
     "name": "stdout",
     "output_type": "stream",
     "text": [
      "(563547, 59) (277568, 59) (563547,) (277568,)\n"
     ]
    }
   ],
   "source": [
    "# Randomly, split the data into test/training/validation sets\n",
    "x = train_preprocessed.drop(['prop_booking_bool'], axis=1)\n",
    "y = train_preprocessed['prop_booking_bool']\n",
    "\n",
    "x_train, x_test, y_train, y_test  = train_test_split(x, y, test_size=0.33, random_state=42)\n",
    "print(x_train.shape, x_test.shape, y_train.shape, y_test.shape)"
   ]
  },
  {
   "cell_type": "code",
   "execution_count": 181,
   "metadata": {},
   "outputs": [
    {
     "name": "stdout",
     "output_type": "stream",
     "text": [
      "0.028241728153101223 0.02870035684690008\n"
     ]
    }
   ],
   "source": [
    "# Check the balance of the splits on y\n",
    "print(y_test.mean(), y_train.mean())"
   ]
  },
  {
   "cell_type": "code",
   "execution_count": 127,
   "metadata": {},
   "outputs": [
    {
     "data": {
      "text/plain": [
       "RandomForestClassifier()"
      ]
     },
     "execution_count": 127,
     "metadata": {},
     "output_type": "execute_result"
    }
   ],
   "source": [
    "# Variable importance from Random Forest (could try PCA instead?)\n",
    "rf = RandomForestClassifier()\n",
    "rf.fit(x_train, y_train)"
   ]
  },
  {
   "cell_type": "code",
   "execution_count": 128,
   "metadata": {},
   "outputs": [
    {
     "data": {
      "text/html": [
       "<div>\n",
       "<style scoped>\n",
       "    .dataframe tbody tr th:only-of-type {\n",
       "        vertical-align: middle;\n",
       "    }\n",
       "\n",
       "    .dataframe tbody tr th {\n",
       "        vertical-align: top;\n",
       "    }\n",
       "\n",
       "    .dataframe thead th {\n",
       "        text-align: right;\n",
       "    }\n",
       "</style>\n",
       "<table border=\"1\" class=\"dataframe\">\n",
       "  <thead>\n",
       "    <tr style=\"text-align: right;\">\n",
       "      <th></th>\n",
       "      <th>0</th>\n",
       "      <th>1</th>\n",
       "    </tr>\n",
       "  </thead>\n",
       "  <tbody>\n",
       "    <tr>\n",
       "      <th>0</th>\n",
       "      <td>0.1017</td>\n",
       "      <td>prop_price_with_discount_usd</td>\n",
       "    </tr>\n",
       "    <tr>\n",
       "      <th>1</th>\n",
       "      <td>0.0982</td>\n",
       "      <td>prop_review_count</td>\n",
       "    </tr>\n",
       "    <tr>\n",
       "      <th>2</th>\n",
       "      <td>0.0837</td>\n",
       "      <td>srch_hour</td>\n",
       "    </tr>\n",
       "    <tr>\n",
       "      <th>3</th>\n",
       "      <td>0.0713</td>\n",
       "      <td>srch_visitor_visit_nbr</td>\n",
       "    </tr>\n",
       "    <tr>\n",
       "      <th>4</th>\n",
       "      <td>0.0660</td>\n",
       "      <td>prop_discount</td>\n",
       "    </tr>\n",
       "    <tr>\n",
       "      <th>5</th>\n",
       "      <td>0.0556</td>\n",
       "      <td>srch_bw_weeks</td>\n",
       "    </tr>\n",
       "    <tr>\n",
       "      <th>6</th>\n",
       "      <td>0.0436</td>\n",
       "      <td>prop_key</td>\n",
       "    </tr>\n",
       "    <tr>\n",
       "      <th>7</th>\n",
       "      <td>0.0427</td>\n",
       "      <td>prop_room_capacity</td>\n",
       "    </tr>\n",
       "    <tr>\n",
       "      <th>8</th>\n",
       "      <td>0.0410</td>\n",
       "      <td>srch_ci_day</td>\n",
       "    </tr>\n",
       "    <tr>\n",
       "      <th>9</th>\n",
       "      <td>0.0402</td>\n",
       "      <td>srch_co_day</td>\n",
       "    </tr>\n",
       "    <tr>\n",
       "      <th>10</th>\n",
       "      <td>0.0381</td>\n",
       "      <td>srch_los</td>\n",
       "    </tr>\n",
       "    <tr>\n",
       "      <th>11</th>\n",
       "      <td>0.0355</td>\n",
       "      <td>prop_review_score</td>\n",
       "    </tr>\n",
       "    <tr>\n",
       "      <th>12</th>\n",
       "      <td>0.0292</td>\n",
       "      <td>srch_adults_cnt</td>\n",
       "    </tr>\n",
       "    <tr>\n",
       "      <th>13</th>\n",
       "      <td>0.0272</td>\n",
       "      <td>prop_submarket_id</td>\n",
       "    </tr>\n",
       "    <tr>\n",
       "      <th>14</th>\n",
       "      <td>0.0258</td>\n",
       "      <td>ci_month</td>\n",
       "    </tr>\n",
       "    <tr>\n",
       "      <th>15</th>\n",
       "      <td>0.0218</td>\n",
       "      <td>prop_price_without_discount_usd_bins</td>\n",
       "    </tr>\n",
       "    <tr>\n",
       "      <th>16</th>\n",
       "      <td>0.0161</td>\n",
       "      <td>prop_starrating</td>\n",
       "    </tr>\n",
       "    <tr>\n",
       "      <th>17</th>\n",
       "      <td>0.0125</td>\n",
       "      <td>srch_we_trip</td>\n",
       "    </tr>\n",
       "    <tr>\n",
       "      <th>18</th>\n",
       "      <td>0.0109</td>\n",
       "      <td>srch_children_cnt</td>\n",
       "    </tr>\n",
       "    <tr>\n",
       "      <th>19</th>\n",
       "      <td>0.0088</td>\n",
       "      <td>srch_rm_cnt</td>\n",
       "    </tr>\n",
       "  </tbody>\n",
       "</table>\n",
       "</div>"
      ],
      "text/plain": [
       "         0                                     1\n",
       "0   0.1017          prop_price_with_discount_usd\n",
       "1   0.0982                     prop_review_count\n",
       "2   0.0837                             srch_hour\n",
       "3   0.0713                srch_visitor_visit_nbr\n",
       "4   0.0660                         prop_discount\n",
       "5   0.0556                         srch_bw_weeks\n",
       "6   0.0436                              prop_key\n",
       "7   0.0427                    prop_room_capacity\n",
       "8   0.0410                           srch_ci_day\n",
       "9   0.0402                           srch_co_day\n",
       "10  0.0381                              srch_los\n",
       "11  0.0355                     prop_review_score\n",
       "12  0.0292                       srch_adults_cnt\n",
       "13  0.0272                     prop_submarket_id\n",
       "14  0.0258                              ci_month\n",
       "15  0.0218  prop_price_without_discount_usd_bins\n",
       "16  0.0161                       prop_starrating\n",
       "17  0.0125                          srch_we_trip\n",
       "18  0.0109                     srch_children_cnt\n",
       "19  0.0088                           srch_rm_cnt"
      ]
     },
     "execution_count": 128,
     "metadata": {},
     "output_type": "execute_result"
    }
   ],
   "source": [
    "feature_importances = sorted(zip(map(lambda x: round(x, 4), rf.feature_importances_), x_train), reverse=True)\n",
    "feature_importances = pd.DataFrame(feature_importances[:20])\n",
    "feature_importances"
   ]
  },
  {
   "cell_type": "code",
   "execution_count": 8,
   "metadata": {},
   "outputs": [
    {
     "data": {
      "image/png": "[encoded data removed]",
      "text/plain": [
       "<Figure size 2880x1440 with 1 Axes>"
      ]
     },
     "metadata": {
      "needs_background": "light"
     },
     "output_type": "display_data"
    }
   ],
   "source": [
    "plt.rcParams['font.size'] = '28'\n",
    "plt.figure(figsize=(40,20))\n",
    "plt.xticks(rotation=45)\n",
    "plt.bar(feature_importances[1], feature_importances[0])\n",
    "plt.xlabel('Variable', fontsize=30)\n",
    "plt.ylabel('Importance', fontsize=30)\n",
    "plt.show()"
   ]
  },
  {
   "cell_type": "code",
   "execution_count": 150,
   "metadata": {},
   "outputs": [],
   "source": [
    "# Take top 12 variables, \n",
    "top_12_feats = feature_importances.iloc[:12, 1].tolist()\n",
    "pd.Series(top_12_feats).to_csv(\"models/top_12_feats.csv\")"
   ]
  },
  {
   "cell_type": "code",
   "execution_count": 188,
   "metadata": {},
   "outputs": [],
   "source": [
    "# Redefine model input variables, using only top 12\n",
    "x_train, x_test = x_train[top_12_feats], x_test[top_12_feats]"
   ]
  },
  {
   "cell_type": "code",
   "execution_count": 189,
   "metadata": {},
   "outputs": [
    {
     "data": {
      "text/html": [
       "<div>\n",
       "<style scoped>\n",
       "    .dataframe tbody tr th:only-of-type {\n",
       "        vertical-align: middle;\n",
       "    }\n",
       "\n",
       "    .dataframe tbody tr th {\n",
       "        vertical-align: top;\n",
       "    }\n",
       "\n",
       "    .dataframe thead th {\n",
       "        text-align: right;\n",
       "    }\n",
       "</style>\n",
       "<table border=\"1\" class=\"dataframe\">\n",
       "  <thead>\n",
       "    <tr style=\"text-align: right;\">\n",
       "      <th></th>\n",
       "      <th>prop_price_with_discount_usd</th>\n",
       "      <th>prop_review_count</th>\n",
       "      <th>srch_hour</th>\n",
       "      <th>srch_visitor_visit_nbr</th>\n",
       "      <th>prop_discount</th>\n",
       "      <th>srch_bw_weeks</th>\n",
       "      <th>prop_key</th>\n",
       "      <th>prop_room_capacity</th>\n",
       "      <th>srch_ci_day</th>\n",
       "      <th>srch_co_day</th>\n",
       "      <th>srch_los</th>\n",
       "      <th>prop_review_score</th>\n",
       "    </tr>\n",
       "  </thead>\n",
       "  <tbody>\n",
       "    <tr>\n",
       "      <th>780096</th>\n",
       "      <td>249.00</td>\n",
       "      <td>181.0</td>\n",
       "      <td>7</td>\n",
       "      <td>32</td>\n",
       "      <td>100.0</td>\n",
       "      <td>3</td>\n",
       "      <td>294558</td>\n",
       "      <td>1000</td>\n",
       "      <td>6</td>\n",
       "      <td>1</td>\n",
       "      <td>2</td>\n",
       "      <td>4.4</td>\n",
       "    </tr>\n",
       "    <tr>\n",
       "      <th>788345</th>\n",
       "      <td>102.42</td>\n",
       "      <td>272.0</td>\n",
       "      <td>19</td>\n",
       "      <td>1</td>\n",
       "      <td>31.0</td>\n",
       "      <td>1</td>\n",
       "      <td>988110</td>\n",
       "      <td>41</td>\n",
       "      <td>5</td>\n",
       "      <td>1</td>\n",
       "      <td>3</td>\n",
       "      <td>3.6</td>\n",
       "    </tr>\n",
       "    <tr>\n",
       "      <th>779736</th>\n",
       "      <td>419.00</td>\n",
       "      <td>556.0</td>\n",
       "      <td>16</td>\n",
       "      <td>2</td>\n",
       "      <td>100.0</td>\n",
       "      <td>0</td>\n",
       "      <td>272312</td>\n",
       "      <td>155</td>\n",
       "      <td>2</td>\n",
       "      <td>3</td>\n",
       "      <td>1</td>\n",
       "      <td>4.4</td>\n",
       "    </tr>\n",
       "    <tr>\n",
       "      <th>328752</th>\n",
       "      <td>78.10</td>\n",
       "      <td>688.0</td>\n",
       "      <td>6</td>\n",
       "      <td>8</td>\n",
       "      <td>63.0</td>\n",
       "      <td>3</td>\n",
       "      <td>3222046</td>\n",
       "      <td>198</td>\n",
       "      <td>3</td>\n",
       "      <td>5</td>\n",
       "      <td>2</td>\n",
       "      <td>3.9</td>\n",
       "    </tr>\n",
       "    <tr>\n",
       "      <th>808007</th>\n",
       "      <td>419.00</td>\n",
       "      <td>1023.0</td>\n",
       "      <td>10</td>\n",
       "      <td>9</td>\n",
       "      <td>67.0</td>\n",
       "      <td>6</td>\n",
       "      <td>248955</td>\n",
       "      <td>347</td>\n",
       "      <td>7</td>\n",
       "      <td>3</td>\n",
       "      <td>3</td>\n",
       "      <td>4.4</td>\n",
       "    </tr>\n",
       "  </tbody>\n",
       "</table>\n",
       "</div>"
      ],
      "text/plain": [
       "        prop_price_with_discount_usd  prop_review_count  srch_hour  \\\n",
       "780096                        249.00              181.0          7   \n",
       "788345                        102.42              272.0         19   \n",
       "779736                        419.00              556.0         16   \n",
       "328752                         78.10              688.0          6   \n",
       "808007                        419.00             1023.0         10   \n",
       "\n",
       "        srch_visitor_visit_nbr  prop_discount  srch_bw_weeks  prop_key  \\\n",
       "780096                      32          100.0              3    294558   \n",
       "788345                       1           31.0              1    988110   \n",
       "779736                       2          100.0              0    272312   \n",
       "328752                       8           63.0              3   3222046   \n",
       "808007                       9           67.0              6    248955   \n",
       "\n",
       "        prop_room_capacity  srch_ci_day  srch_co_day  srch_los  \\\n",
       "780096                1000            6            1         2   \n",
       "788345                  41            5            1         3   \n",
       "779736                 155            2            3         1   \n",
       "328752                 198            3            5         2   \n",
       "808007                 347            7            3         3   \n",
       "\n",
       "        prop_review_score  \n",
       "780096                4.4  \n",
       "788345                3.6  \n",
       "779736                4.4  \n",
       "328752                3.9  \n",
       "808007                4.4  "
      ]
     },
     "execution_count": 189,
     "metadata": {},
     "output_type": "execute_result"
    }
   ],
   "source": [
    "x_train.head()"
   ]
  },
  {
   "cell_type": "markdown",
   "metadata": {},
   "source": [
    "### Resampling\n",
    "\n",
    "Over and under sampling - using SMOTE and Tomek links. \n",
    "\n",
    "SMOTE (Synthetic Minority Oversampling TEchnique) consists of synthesizing elements for the minority class. \n",
    "\n",
    "Tomek links are pairs of very close instances, but of opposite classes. Removing the instances of the majority class of each pair increases the space between the two classes.\n"
   ]
  },
  {
   "cell_type": "code",
   "execution_count": 109,
   "metadata": {},
   "outputs": [],
   "source": [
    "def plot_2d_space(X, y, label='Classes'):   \n",
    "    colors = ['#1F77B4', '#FF7F0E']\n",
    "    markers = ['o', 's']\n",
    "    for l, c, m in zip(np.unique(y), colors, markers):\n",
    "        plt.scatter(\n",
    "            X[y==l, 0],\n",
    "            X[y==l, 1],\n",
    "            c=c, label=l, marker=m\n",
    "        )\n",
    "    plt.title(label)\n",
    "    plt.legend(loc='upper right')\n",
    "    plt.show()"
   ]
  },
  {
   "cell_type": "code",
   "execution_count": 16,
   "metadata": {},
   "outputs": [
    {
     "data": {
      "image/png": "[encoded data removed]",
      "text/plain": [
       "<Figure size 432x288 with 1 Axes>"
      ]
     },
     "metadata": {
      "needs_background": "light"
     },
     "output_type": "display_data"
    }
   ],
   "source": [
    "# Use PCA to reduce components down to two, for plotting \n",
    "pca = PCA(n_components=2)\n",
    "x_pca = pca.fit_transform(x)\n",
    "\n",
    "plot_2d_space(x_pca, y, '2 PCA components')"
   ]
  },
  {
   "cell_type": "code",
   "execution_count": 17,
   "metadata": {},
   "outputs": [
    {
     "data": {
      "text/plain": [
       "'0.23.1'"
      ]
     },
     "execution_count": 17,
     "metadata": {},
     "output_type": "execute_result"
    }
   ],
   "source": [
    "import sklearn\n",
    "sklearn.__version__"
   ]
  },
  {
   "cell_type": "code",
   "execution_count": 161,
   "metadata": {},
   "outputs": [],
   "source": [
    "# Over and under sampling - using the SMOTE and Tomek links\n",
    "# SMOTE (Synthetic Minority Oversampling TEchnique) consists of synthesizing elements for the minority class\n",
    "# Tomek links are pairs of very close instances, but of opposite classes. Removing the instances of the majority \n",
    "# class of each pair increases the space between the two classes\n",
    "\n",
    "smt = SMOTETomek(random_state=42)\n",
    "X_smt, y_smt = smt.fit_sample(x_train, y_train)"
   ]
  },
  {
   "cell_type": "code",
   "execution_count": 110,
   "metadata": {},
   "outputs": [
    {
     "data": {
      "image/png": "[encoded data removed]",
      "text/plain": [
       "<Figure size 432x288 with 1 Axes>"
      ]
     },
     "metadata": {
      "needs_background": "light"
     },
     "output_type": "display_data"
    }
   ],
   "source": [
    "plot_2d_space(np.array(X_smt), np.array(y_smt), 'SMOTE + Tomek links')"
   ]
  },
  {
   "cell_type": "code",
   "execution_count": 20,
   "metadata": {},
   "outputs": [],
   "source": [
    "# from imblearn.over_sampling import SMOTE\n",
    "\n",
    "# smote = SMOTE(sampling_strategy='minority')\n",
    "# x_sm, y_sm = smote.fit_sample(x, y)\n",
    "\n",
    "# plot_2d_space(x_sm, y_sm, 'SMOTE over-sampling')"
   ]
  },
  {
   "cell_type": "code",
   "execution_count": 21,
   "metadata": {},
   "outputs": [],
   "source": [
    "# from imblearn.under_sampling import ClusterCentroids\n",
    "\n",
    "# cc = ClusterCentroids(ratio={0: 10})\n",
    "# x_cc, y_cc = cc.fit_sample(x, y)\n",
    "\n",
    "# plot_2d_space(x_cc, y_cc, 'Cluster Centroids under-sampling')"
   ]
  },
  {
   "cell_type": "code",
   "execution_count": 162,
   "metadata": {},
   "outputs": [
    {
     "name": "stdout",
     "output_type": "stream",
     "text": [
      "(1088806, 59) (277568, 59) (1088806,) (277568,)\n"
     ]
    }
   ],
   "source": [
    "# Randomly, split the resampled data into test/training sets\n",
    "\n",
    "x_train, y_train  = X_smt.copy(), y_smt.copy()\n",
    "print(x_train.shape, x_test.shape, y_train.shape, y_test.shape)"
   ]
  },
  {
   "cell_type": "code",
   "execution_count": 163,
   "metadata": {},
   "outputs": [
    {
     "name": "stdout",
     "output_type": "stream",
     "text": [
      "0.028241728153101223 0.5\n"
     ]
    }
   ],
   "source": [
    "# Check the balance of the splits on y\n",
    "print(y_test.mean(), y_train.mean())"
   ]
  },
  {
   "cell_type": "markdown",
   "metadata": {},
   "source": [
    "### Modelling \n",
    "\n",
    "1. Logistic regression\n",
    "2. Random Forest\n",
    "3. SVM\n",
    "4. XGBoost "
   ]
  },
  {
   "cell_type": "markdown",
   "metadata": {},
   "source": [
    "##### LOGISTIC REGRESSION "
   ]
  },
  {
   "cell_type": "code",
   "execution_count": 45,
   "metadata": {},
   "outputs": [
    {
     "data": {
      "text/plain": [
       "0.5607559400010289"
      ]
     },
     "execution_count": 45,
     "metadata": {},
     "output_type": "execute_result"
    }
   ],
   "source": [
    "# Instantiate\n",
    "lr_model = LogisticRegression()\n",
    "# Fit\n",
    "lr_model = lr_model.fit(x_train, y_train)\n",
    "# How accurate?\n",
    "lr_model.score(x_train, y_train)"
   ]
  },
  {
   "cell_type": "code",
   "execution_count": 46,
   "metadata": {},
   "outputs": [
    {
     "name": "stdout",
     "output_type": "stream",
     "text": [
      "0.7258401544846668\n"
     ]
    }
   ],
   "source": [
    "# Predictions on the test dataset\n",
    "predicted = pd.DataFrame(lr_model.predict(x_test))\n",
    "# Probabilities on the test dataset\n",
    "probs = pd.DataFrame(lr_model.predict_proba(x_test))\n",
    "print(metrics.accuracy_score(y_test, predicted))"
   ]
  },
  {
   "cell_type": "code",
   "execution_count": 47,
   "metadata": {},
   "outputs": [],
   "source": [
    "# Store metrics\n",
    "logit_accuracy = metrics.accuracy_score(y_test, predicted)\n",
    "logit_roc_auc = metrics.roc_auc_score(y_test, probs[1])\n",
    "logit_confus_matrix = metrics.confusion_matrix(y_test, predicted)\n",
    "logit_classification_report = metrics.classification_report(y_test, predicted)\n",
    "logit_precision = metrics.precision_score(y_test, predicted, pos_label=1)\n",
    "logit_recall = metrics.recall_score(y_test, predicted, pos_label=1)\n",
    "logit_f1 = metrics.f1_score(y_test, predicted, pos_label=1)"
   ]
  },
  {
   "cell_type": "code",
   "execution_count": 48,
   "metadata": {},
   "outputs": [
    {
     "name": "stdout",
     "output_type": "stream",
     "text": [
      "[[198528  71201]\n",
      " [  4897   2942]]\n"
     ]
    }
   ],
   "source": [
    "print(metrics.confusion_matrix(y_test, predicted))"
   ]
  },
  {
   "cell_type": "code",
   "execution_count": 49,
   "metadata": {},
   "outputs": [
    {
     "name": "stdout",
     "output_type": "stream",
     "text": [
      "              precision    recall  f1-score   support\n",
      "\n",
      "           0       0.98      0.74      0.84    269729\n",
      "           1       0.04      0.38      0.07      7839\n",
      "\n",
      "    accuracy                           0.73    277568\n",
      "   macro avg       0.51      0.56      0.46    277568\n",
      "weighted avg       0.95      0.73      0.82    277568\n",
      "\n"
     ]
    }
   ],
   "source": [
    "print(metrics.classification_report(y_test, predicted))"
   ]
  },
  {
   "cell_type": "markdown",
   "metadata": {},
   "source": [
    "##### RANDOM FOREST\n",
    "\n",
    "At least this one predicts some sales!"
   ]
  },
  {
   "cell_type": "code",
   "execution_count": 164,
   "metadata": {},
   "outputs": [
    {
     "data": {
      "text/plain": [
       "0.9999696915703992"
      ]
     },
     "execution_count": 164,
     "metadata": {},
     "output_type": "execute_result"
    }
   ],
   "source": [
    "# Instantiate\n",
    "rf = RandomForestClassifier()    \n",
    "# Fit\n",
    "rf_model = rf.fit(x_train, y_train)\n",
    "# training accuracy \n",
    "rf_model.score(x_train, y_train)"
   ]
  },
  {
   "cell_type": "code",
   "execution_count": 165,
   "metadata": {},
   "outputs": [],
   "source": [
    "# Predictions/probs on the test dataset\n",
    "predicted = pd.DataFrame(rf_model.predict(x_test))\n",
    "probs = pd.DataFrame(rf_model.predict_proba(x_test))"
   ]
  },
  {
   "cell_type": "code",
   "execution_count": 166,
   "metadata": {},
   "outputs": [],
   "source": [
    "# Store metrics\n",
    "allvars_rf_accuracy = metrics.accuracy_score(y_test, predicted)\n",
    "allvars_rf_roc_auc = metrics.roc_auc_score(y_test, probs[1])\n",
    "allvars_rf_confus_matrix = metrics.confusion_matrix(y_test, predicted)\n",
    "allvars_rf_classification_report = metrics.classification_report(y_test, predicted)\n",
    "allvars_rf_precision = metrics.precision_score(y_test, predicted, pos_label=1)\n",
    "allvars_rf_recall = metrics.recall_score(y_test, predicted, pos_label=1)\n",
    "allvars_rf_f1 = metrics.f1_score(y_test, predicted, pos_label=1)"
   ]
  },
  {
   "cell_type": "code",
   "execution_count": 167,
   "metadata": {},
   "outputs": [
    {
     "name": "stdout",
     "output_type": "stream",
     "text": [
      "rf_confus_matrix: \n",
      "[[268619   1110]\n",
      " [  7661    178]] rf_classification_report: \n",
      "              precision    recall  f1-score   support\n",
      "\n",
      "           0       0.97      1.00      0.98    269729\n",
      "           1       0.14      0.02      0.04      7839\n",
      "\n",
      "    accuracy                           0.97    277568\n",
      "   macro avg       0.56      0.51      0.51    277568\n",
      "weighted avg       0.95      0.97      0.96    277568\n",
      "\n",
      "\n"
     ]
    }
   ],
   "source": [
    "print(f\"rf_confus_matrix: \\n{rf_confus_matrix}\",\n",
    "     f\"rf_classification_report: \\n{rf_classification_report}\\n\")"
   ]
  },
  {
   "cell_type": "code",
   "execution_count": 168,
   "metadata": {},
   "outputs": [],
   "source": [
    "# Evaluate the model using 10-fold cross-validation\n",
    "allvars_rf_cv_scores = cross_val_score(RandomForestClassifier(), x_test, y_test, scoring='precision', cv=10)\n",
    "allvars_rf_cv_mean = np.mean(rf_cv_scores)"
   ]
  },
  {
   "cell_type": "code",
   "execution_count": 169,
   "metadata": {},
   "outputs": [
    {
     "name": "stdout",
     "output_type": "stream",
     "text": [
      "0.4032692307692307\n"
     ]
    }
   ],
   "source": [
    "print(allvars_rf_cv_mean)"
   ]
  },
  {
   "cell_type": "markdown",
   "metadata": {},
   "source": [
    "##### SVM"
   ]
  },
  {
   "cell_type": "code",
   "execution_count": 56,
   "metadata": {},
   "outputs": [],
   "source": [
    "# # SVM is VERY comput instensive, so scale inputs to reduce burden & time\n",
    "# from sklearn.preprocessing import MinMaxScaler\n",
    "\n",
    "# scaling = MinMaxScaler(feature_range=(-1,1)).fit(x_train)\n",
    "# x_train = scaling.transform(x_train)\n",
    "# x_test = scaling.transform(x_test)"
   ]
  },
  {
   "cell_type": "code",
   "execution_count": 57,
   "metadata": {},
   "outputs": [],
   "source": [
    "# Instantiate\n",
    "# svm_model = SVC(probability=True)\n",
    "# # Fit\n",
    "# svm_model = svm_model.fit(x_train, y_train)\n",
    "# # Accuracy\n",
    "# svm_model.score(x_train, y_train)"
   ]
  },
  {
   "cell_type": "code",
   "execution_count": 58,
   "metadata": {},
   "outputs": [],
   "source": [
    "# # Predictions/probs on the test dataset\n",
    "# predicted = pd.DataFrame(svm_model.predict(x_test))\n",
    "# probs = pd.DataFrame(svm_model.predict_proba(x_test))"
   ]
  },
  {
   "cell_type": "code",
   "execution_count": 59,
   "metadata": {},
   "outputs": [],
   "source": [
    "# # Store metrics\n",
    "# svm_accuracy = metrics.accuracy_score(y_test, predicted)\n",
    "# svm_roc_auc = metrics.roc_auc_score(y_test, probs[1])\n",
    "# svm_confus_matrix = metrics.confusion_matrix(y_test, predicted)\n",
    "# svm_classification_report = metrics.classification_report(y_test, predicted)\n",
    "# svm_precision = metrics.precision_score(y_test, predicted, pos_label=1)\n",
    "# svm_recall = metrics.recall_score(y_test, predicted, pos_label=1)\n",
    "# svm_f1 = metrics.f1_score(y_test, predicted, pos_label=1)"
   ]
  },
  {
   "cell_type": "code",
   "execution_count": 60,
   "metadata": {},
   "outputs": [],
   "source": [
    "# print(f\"svm_confus_matrix : {svm_confus_matrix}\")"
   ]
  },
  {
   "cell_type": "code",
   "execution_count": 61,
   "metadata": {},
   "outputs": [],
   "source": [
    "# # Evaluate the model using 10-fold cross-validation\n",
    "# svm_cv_scores = cross_val_score(SVC(probability=True), x_test, y_test, scoring='precision', cv=10)\n",
    "# svm_cv_mean = np.mean(svm_cv_scores) "
   ]
  },
  {
   "cell_type": "code",
   "execution_count": 62,
   "metadata": {},
   "outputs": [],
   "source": [
    "# print(svm_cv_mean)"
   ]
  },
  {
   "cell_type": "markdown",
   "metadata": {},
   "source": [
    "##### XGB "
   ]
  },
  {
   "cell_type": "code",
   "execution_count": 190,
   "metadata": {},
   "outputs": [
    {
     "name": "stderr",
     "output_type": "stream",
     "text": [
      "/Users/tabithajohnston/opt/anaconda3/envs/expedia_kaggle/lib/python3.6/site-packages/xgboost/sklearn.py:888: UserWarning: The use of label encoder in XGBClassifier is deprecated and will be removed in a future release. To remove this warning, do the following: 1) Pass option use_label_encoder=False when constructing XGBClassifier object; and 2) Encode your labels (y) as integers starting with 0, i.e. 0, 1, 2, ..., [num_class - 1].\n",
      "  warnings.warn(label_encoder_deprecation_msg, UserWarning)\n"
     ]
    },
    {
     "name": "stdout",
     "output_type": "stream",
     "text": [
      "[19:10:00] WARNING: /Users/travis/build/dmlc/xgboost/src/learner.cc:1061: Starting in XGBoost 1.3.0, the default evaluation metric used with the objective 'binary:logistic' was changed from 'error' to 'logloss'. Explicitly set eval_metric if you'd like to restore the old behavior.\n"
     ]
    },
    {
     "data": {
      "text/plain": [
       "0.9715764612357088"
      ]
     },
     "execution_count": 190,
     "metadata": {},
     "output_type": "execute_result"
    }
   ],
   "source": [
    "from xgboost import XGBClassifier\n",
    "# Instantiate \n",
    "xgb_model = XGBClassifier(random_state=42)\n",
    "# Fit\n",
    "xgb_model = xgb_model.fit(x_train, y_train)\n",
    "# Accuracy\n",
    "xgb_model.score(x_train, y_train)"
   ]
  },
  {
   "cell_type": "code",
   "execution_count": 191,
   "metadata": {},
   "outputs": [],
   "source": [
    "# Predictions/probs on the test dataset\n",
    "predicted = pd.DataFrame(xgb_model.predict(x_test))\n",
    "probs = pd.DataFrame(xgb_model.predict_proba(x_test))"
   ]
  },
  {
   "cell_type": "code",
   "execution_count": 192,
   "metadata": {},
   "outputs": [],
   "source": [
    "# Store metrics\n",
    "xgb_accuracy = metrics.accuracy_score(y_test, predicted)\n",
    "xgb_roc_auc = metrics.roc_auc_score(y_test, probs[1])\n",
    "xgb_confus_matrix = metrics.confusion_matrix(y_test, predicted)\n",
    "xgb_classification_report = metrics.classification_report(y_test, predicted)\n",
    "xgb_precision = metrics.precision_score(y_test, predicted, pos_label=1)\n",
    "xgb_recall = metrics.recall_score(y_test, predicted, pos_label=1)\n",
    "xgb_f1 = metrics.f1_score(y_test, predicted, pos_label=1)"
   ]
  },
  {
   "cell_type": "code",
   "execution_count": 193,
   "metadata": {},
   "outputs": [
    {
     "name": "stdout",
     "output_type": "stream",
     "text": [
      "xgb_confus_matrix : \n",
      "[[269687     42]\n",
      " [  7817     22]]\n"
     ]
    }
   ],
   "source": [
    "print(f\"xgb_confus_matrix : \\n{xgb_confus_matrix}\")"
   ]
  },
  {
   "cell_type": "code",
   "execution_count": 198,
   "metadata": {},
   "outputs": [],
   "source": [
    "# Evaluate the model using 10-fold cross-validation\n",
    "xgb_cv_scores = cross_val_score(xgb_model, x_test, y_test, scoring='precision', cv=10)\n",
    "xgb_cv_mean = np.mean(xgb_cv_scores)"
   ]
  },
  {
   "cell_type": "code",
   "execution_count": 199,
   "metadata": {},
   "outputs": [
    {
     "name": "stdout",
     "output_type": "stream",
     "text": [
      "0.25726190476190475\n"
     ]
    }
   ],
   "source": [
    "print(vars12_xgb_cv_mean_nosampling)"
   ]
  },
  {
   "cell_type": "markdown",
   "metadata": {},
   "source": [
    "##### KNN"
   ]
  },
  {
   "cell_type": "code",
   "execution_count": 69,
   "metadata": {},
   "outputs": [
    {
     "data": {
      "text/plain": [
       "0.9647026508609603"
      ]
     },
     "execution_count": 69,
     "metadata": {},
     "output_type": "execute_result"
    }
   ],
   "source": [
    "# instantiate learning model (k = 3)\n",
    "knn_model = KNeighborsClassifier(n_neighbors=3)\n",
    "# fit the model\n",
    "knn_model.fit(x_train, y_train)\n",
    "# Accuracy\n",
    "knn_model.score(x_train, y_train)"
   ]
  },
  {
   "cell_type": "code",
   "execution_count": 70,
   "metadata": {},
   "outputs": [],
   "source": [
    "# Predictions/probs on the test dataset\n",
    "predicted = pd.DataFrame(knn_model.predict(x_test))\n",
    "probs = pd.DataFrame(knn_model.predict_proba(x_test))"
   ]
  },
  {
   "cell_type": "code",
   "execution_count": 71,
   "metadata": {},
   "outputs": [],
   "source": [
    "# Store metrics\n",
    "knn_accuracy = metrics.accuracy_score(y_test, predicted)\n",
    "knn_roc_auc = metrics.roc_auc_score(y_test, probs[1])\n",
    "knn_confus_matrix = metrics.confusion_matrix(y_test, predicted)\n",
    "knn_classification_report = metrics.classification_report(y_test, predicted)\n",
    "knn_precision = metrics.precision_score(y_test, predicted, pos_label=1)\n",
    "knn_recall = metrics.recall_score(y_test, predicted, pos_label=1)\n",
    "knn_f1 = metrics.f1_score(y_test, predicted, pos_label=1)"
   ]
  },
  {
   "cell_type": "code",
   "execution_count": 72,
   "metadata": {},
   "outputs": [
    {
     "name": "stdout",
     "output_type": "stream",
     "text": [
      "[[236066  33663]\n",
      " [  5641   2198]]\n"
     ]
    }
   ],
   "source": [
    "print(knn_confus_matrix)"
   ]
  },
  {
   "cell_type": "code",
   "execution_count": 73,
   "metadata": {},
   "outputs": [],
   "source": [
    "# Evaluate the model using 10-fold cross-validation\n",
    "knn_cv_scores = cross_val_score(KNeighborsClassifier(n_neighbors=3), x_test, y_test, scoring='precision', cv=10)\n",
    "knn_cv_mean = np.mean(knn_cv_scores)"
   ]
  },
  {
   "cell_type": "code",
   "execution_count": 74,
   "metadata": {},
   "outputs": [
    {
     "name": "stdout",
     "output_type": "stream",
     "text": [
      "0.13330313229589058\n"
     ]
    }
   ],
   "source": [
    "print(knn_cv_mean)"
   ]
  },
  {
   "cell_type": "markdown",
   "metadata": {},
   "source": [
    "##### Two Class Bayes"
   ]
  },
  {
   "cell_type": "code",
   "execution_count": 75,
   "metadata": {},
   "outputs": [
    {
     "data": {
      "text/plain": [
       "0.565866398665383"
      ]
     },
     "execution_count": 75,
     "metadata": {},
     "output_type": "execute_result"
    }
   ],
   "source": [
    "# Instantiate\n",
    "bayes_model = GaussianNB()\n",
    "# Fit the model\n",
    "bayes_model.fit(x_train, y_train)\n",
    "# Accuracy\n",
    "bayes_model.score(x_train, y_train)"
   ]
  },
  {
   "cell_type": "code",
   "execution_count": 76,
   "metadata": {},
   "outputs": [],
   "source": [
    "# Predictions/probs on the test dataset\n",
    "predicted = pd.DataFrame(bayes_model.predict(x_test))\n",
    "probs = pd.DataFrame(bayes_model.predict_proba(x_test))"
   ]
  },
  {
   "cell_type": "code",
   "execution_count": 77,
   "metadata": {},
   "outputs": [],
   "source": [
    "# Store metrics\n",
    "bayes_accuracy = metrics.accuracy_score(y_test, predicted)\n",
    "bayes_roc_auc = metrics.roc_auc_score(y_test, probs[1])\n",
    "bayes_confus_matrix = metrics.confusion_matrix(y_test, predicted)\n",
    "bayes_classification_report = metrics.classification_report(y_test, predicted)\n",
    "bayes_precision = metrics.precision_score(y_test, predicted, pos_label=1)\n",
    "bayes_recall = metrics.recall_score(y_test, predicted, pos_label=1)\n",
    "bayes_f1 = metrics.f1_score(y_test, predicted, pos_label=1)"
   ]
  },
  {
   "cell_type": "code",
   "execution_count": 78,
   "metadata": {},
   "outputs": [],
   "source": [
    "# Evaluate the model using 10-fold cross-validation\n",
    "bayes_cv_scores = cross_val_score(KNeighborsClassifier(n_neighbors=3), x_test, y_test, scoring='precision', cv=10)\n",
    "bayes_cv_mean = np.mean(bayes_cv_scores)"
   ]
  },
  {
   "cell_type": "code",
   "execution_count": 79,
   "metadata": {},
   "outputs": [
    {
     "name": "stdout",
     "output_type": "stream",
     "text": [
      "bayes_cv_mean: 0.13330313229589058\n"
     ]
    }
   ],
   "source": [
    "print(f\"bayes_cv_mean: {bayes_cv_mean}\")"
   ]
  },
  {
   "cell_type": "markdown",
   "metadata": {},
   "source": [
    "##### Model comparison"
   ]
  },
  {
   "cell_type": "code",
   "execution_count": 82,
   "metadata": {},
   "outputs": [],
   "source": [
    "# Model comparison\n",
    "models = pd.DataFrame({\n",
    "  'Model': ['Logistic', 'r.f.', 'XGB', 'kNN',  'Bayes'],\n",
    "  'Accuracy' : [logit_accuracy, rf_accuracy, xgb_accuracy, knn_accuracy, bayes_accuracy],\n",
    "  'Precision': [logit_precision, rf_precision, xgb_precision, knn_precision, bayes_precision],\n",
    "  'recall' : [logit_recall, rf_recall, xgb_recall, knn_recall, bayes_recall],\n",
    "  'F1' : [logit_f1, rf_f1, xgb_f1, knn_f1, bayes_f1],\n",
    "  'cv_precision' : [0, rf_cv_mean, xgb_cv_mean, knn_cv_mean, bayes_cv_mean]\n",
    "})"
   ]
  },
  {
   "cell_type": "code",
   "execution_count": 83,
   "metadata": {},
   "outputs": [
    {
     "data": {
      "text/html": [
       "<div>\n",
       "<style scoped>\n",
       "    .dataframe tbody tr th:only-of-type {\n",
       "        vertical-align: middle;\n",
       "    }\n",
       "\n",
       "    .dataframe tbody tr th {\n",
       "        vertical-align: top;\n",
       "    }\n",
       "\n",
       "    .dataframe thead th {\n",
       "        text-align: right;\n",
       "    }\n",
       "</style>\n",
       "<table border=\"1\" class=\"dataframe\">\n",
       "  <thead>\n",
       "    <tr style=\"text-align: right;\">\n",
       "      <th></th>\n",
       "      <th>Model</th>\n",
       "      <th>Accuracy</th>\n",
       "      <th>Precision</th>\n",
       "      <th>recall</th>\n",
       "      <th>F1</th>\n",
       "      <th>cv_precision</th>\n",
       "    </tr>\n",
       "  </thead>\n",
       "  <tbody>\n",
       "    <tr>\n",
       "      <th>1</th>\n",
       "      <td>r.f.</td>\n",
       "      <td>0.955506</td>\n",
       "      <td>0.112790</td>\n",
       "      <td>0.083812</td>\n",
       "      <td>0.096165</td>\n",
       "      <td>0.298785</td>\n",
       "    </tr>\n",
       "    <tr>\n",
       "      <th>2</th>\n",
       "      <td>XGB</td>\n",
       "      <td>0.931462</td>\n",
       "      <td>0.091878</td>\n",
       "      <td>0.160607</td>\n",
       "      <td>0.116888</td>\n",
       "      <td>0.257262</td>\n",
       "    </tr>\n",
       "    <tr>\n",
       "      <th>3</th>\n",
       "      <td>kNN</td>\n",
       "      <td>0.858399</td>\n",
       "      <td>0.061292</td>\n",
       "      <td>0.280393</td>\n",
       "      <td>0.100595</td>\n",
       "      <td>0.133303</td>\n",
       "    </tr>\n",
       "    <tr>\n",
       "      <th>0</th>\n",
       "      <td>Logistic</td>\n",
       "      <td>0.725840</td>\n",
       "      <td>0.039680</td>\n",
       "      <td>0.375303</td>\n",
       "      <td>0.071772</td>\n",
       "      <td>0.000000</td>\n",
       "    </tr>\n",
       "    <tr>\n",
       "      <th>4</th>\n",
       "      <td>Bayes</td>\n",
       "      <td>0.553983</td>\n",
       "      <td>0.035528</td>\n",
       "      <td>0.565761</td>\n",
       "      <td>0.066858</td>\n",
       "      <td>0.133303</td>\n",
       "    </tr>\n",
       "  </tbody>\n",
       "</table>\n",
       "</div>"
      ],
      "text/plain": [
       "      Model  Accuracy  Precision    recall        F1  cv_precision\n",
       "1      r.f.  0.955506   0.112790  0.083812  0.096165      0.298785\n",
       "2       XGB  0.931462   0.091878  0.160607  0.116888      0.257262\n",
       "3       kNN  0.858399   0.061292  0.280393  0.100595      0.133303\n",
       "0  Logistic  0.725840   0.039680  0.375303  0.071772      0.000000\n",
       "4     Bayes  0.553983   0.035528  0.565761  0.066858      0.133303"
      ]
     },
     "execution_count": 83,
     "metadata": {},
     "output_type": "execute_result"
    }
   ],
   "source": [
    "# Print table and sort by test precision\n",
    "models.sort_values(by='Precision', ascending=False)"
   ]
  },
  {
   "cell_type": "code",
   "execution_count": 84,
   "metadata": {},
   "outputs": [
    {
     "data": {
      "text/html": [
       "<div>\n",
       "<style scoped>\n",
       "    .dataframe tbody tr th:only-of-type {\n",
       "        vertical-align: middle;\n",
       "    }\n",
       "\n",
       "    .dataframe tbody tr th {\n",
       "        vertical-align: top;\n",
       "    }\n",
       "\n",
       "    .dataframe thead th {\n",
       "        text-align: right;\n",
       "    }\n",
       "</style>\n",
       "<table border=\"1\" class=\"dataframe\">\n",
       "  <thead>\n",
       "    <tr style=\"text-align: right;\">\n",
       "      <th></th>\n",
       "      <th>Model</th>\n",
       "      <th>Accuracy</th>\n",
       "      <th>Precision</th>\n",
       "      <th>recall</th>\n",
       "      <th>F1</th>\n",
       "      <th>cv_precision</th>\n",
       "    </tr>\n",
       "  </thead>\n",
       "  <tbody>\n",
       "    <tr>\n",
       "      <th>4</th>\n",
       "      <td>Bayes</td>\n",
       "      <td>0.553983</td>\n",
       "      <td>0.035528</td>\n",
       "      <td>0.565761</td>\n",
       "      <td>0.066858</td>\n",
       "      <td>0.133303</td>\n",
       "    </tr>\n",
       "    <tr>\n",
       "      <th>0</th>\n",
       "      <td>Logistic</td>\n",
       "      <td>0.725840</td>\n",
       "      <td>0.039680</td>\n",
       "      <td>0.375303</td>\n",
       "      <td>0.071772</td>\n",
       "      <td>0.000000</td>\n",
       "    </tr>\n",
       "    <tr>\n",
       "      <th>3</th>\n",
       "      <td>kNN</td>\n",
       "      <td>0.858399</td>\n",
       "      <td>0.061292</td>\n",
       "      <td>0.280393</td>\n",
       "      <td>0.100595</td>\n",
       "      <td>0.133303</td>\n",
       "    </tr>\n",
       "    <tr>\n",
       "      <th>2</th>\n",
       "      <td>XGB</td>\n",
       "      <td>0.931462</td>\n",
       "      <td>0.091878</td>\n",
       "      <td>0.160607</td>\n",
       "      <td>0.116888</td>\n",
       "      <td>0.257262</td>\n",
       "    </tr>\n",
       "    <tr>\n",
       "      <th>1</th>\n",
       "      <td>r.f.</td>\n",
       "      <td>0.955506</td>\n",
       "      <td>0.112790</td>\n",
       "      <td>0.083812</td>\n",
       "      <td>0.096165</td>\n",
       "      <td>0.298785</td>\n",
       "    </tr>\n",
       "  </tbody>\n",
       "</table>\n",
       "</div>"
      ],
      "text/plain": [
       "      Model  Accuracy  Precision    recall        F1  cv_precision\n",
       "4     Bayes  0.553983   0.035528  0.565761  0.066858      0.133303\n",
       "0  Logistic  0.725840   0.039680  0.375303  0.071772      0.000000\n",
       "3       kNN  0.858399   0.061292  0.280393  0.100595      0.133303\n",
       "2       XGB  0.931462   0.091878  0.160607  0.116888      0.257262\n",
       "1      r.f.  0.955506   0.112790  0.083812  0.096165      0.298785"
      ]
     },
     "execution_count": 84,
     "metadata": {},
     "output_type": "execute_result"
    }
   ],
   "source": [
    "# Print table and sort by test precision\n",
    "models.sort_values(by='recall', ascending=False)"
   ]
  },
  {
   "cell_type": "code",
   "execution_count": 196,
   "metadata": {},
   "outputs": [],
   "source": [
    "# XGB Exploration\n",
    "# Model comparison\n",
    "xgb_models = pd.DataFrame({\n",
    "  'Model': ['12_vars_resampled', 'all_vars_resampled', '12_vars_no_sampling', 'all_vars_no_sampling'],\n",
    "  'Accuracy' : [xgb_accuracy, allvars_xgb_accuracy, vars12_xgb_accuracy_nosampling, allvars_xgb_accuracy_nosampling],\n",
    "  'Precision': [xgb_precision, allvars_xgb_precision, vars12_xgb_precision_nosampling, allvars_xgb_precision_nosampling],\n",
    "  'recall' : [xgb_recall, allvars_xgb_recall, vars12_xgb_recall_nosampling, allvars_xgb_recall_nosampling],\n",
    "  'F1' : [xgb_f1, allvars_xgb_f1, vars12_xgb_f1_nosampling, allvars_xgb_f1_nosampling],\n",
    "  'cv_precision' : [xgb_cv_mean, allvars_xgb_cv_mean, vars12_xgb_cv_mean_nosampling, allvars_xgb_cv_mean_nosampling]\n",
    "})"
   ]
  },
  {
   "cell_type": "code",
   "execution_count": 197,
   "metadata": {},
   "outputs": [
    {
     "data": {
      "text/html": [
       "<div>\n",
       "<style scoped>\n",
       "    .dataframe tbody tr th:only-of-type {\n",
       "        vertical-align: middle;\n",
       "    }\n",
       "\n",
       "    .dataframe tbody tr th {\n",
       "        vertical-align: top;\n",
       "    }\n",
       "\n",
       "    .dataframe thead th {\n",
       "        text-align: right;\n",
       "    }\n",
       "</style>\n",
       "<table border=\"1\" class=\"dataframe\">\n",
       "  <thead>\n",
       "    <tr style=\"text-align: right;\">\n",
       "      <th></th>\n",
       "      <th>Model</th>\n",
       "      <th>Accuracy</th>\n",
       "      <th>Precision</th>\n",
       "      <th>recall</th>\n",
       "      <th>F1</th>\n",
       "      <th>cv_precision</th>\n",
       "    </tr>\n",
       "  </thead>\n",
       "  <tbody>\n",
       "    <tr>\n",
       "      <th>0</th>\n",
       "      <td>12_vars_resampled</td>\n",
       "      <td>0.971686</td>\n",
       "      <td>0.343750</td>\n",
       "      <td>0.002806</td>\n",
       "      <td>0.005568</td>\n",
       "      <td>0.257262</td>\n",
       "    </tr>\n",
       "    <tr>\n",
       "      <th>1</th>\n",
       "      <td>all_vars_resampled</td>\n",
       "      <td>0.958126</td>\n",
       "      <td>0.096588</td>\n",
       "      <td>0.057788</td>\n",
       "      <td>0.072312</td>\n",
       "      <td>0.257262</td>\n",
       "    </tr>\n",
       "    <tr>\n",
       "      <th>2</th>\n",
       "      <td>12_vars_no_sampling</td>\n",
       "      <td>0.971686</td>\n",
       "      <td>0.343750</td>\n",
       "      <td>0.002806</td>\n",
       "      <td>0.005568</td>\n",
       "      <td>0.257262</td>\n",
       "    </tr>\n",
       "    <tr>\n",
       "      <th>3</th>\n",
       "      <td>all_vars_no_sampling</td>\n",
       "      <td>0.971701</td>\n",
       "      <td>0.428571</td>\n",
       "      <td>0.006123</td>\n",
       "      <td>0.012074</td>\n",
       "      <td>0.257262</td>\n",
       "    </tr>\n",
       "  </tbody>\n",
       "</table>\n",
       "</div>"
      ],
      "text/plain": [
       "                  Model  Accuracy  Precision    recall        F1  cv_precision\n",
       "0     12_vars_resampled  0.971686   0.343750  0.002806  0.005568      0.257262\n",
       "1    all_vars_resampled  0.958126   0.096588  0.057788  0.072312      0.257262\n",
       "2   12_vars_no_sampling  0.971686   0.343750  0.002806  0.005568      0.257262\n",
       "3  all_vars_no_sampling  0.971701   0.428571  0.006123  0.012074      0.257262"
      ]
     },
     "execution_count": 197,
     "metadata": {},
     "output_type": "execute_result"
    }
   ],
   "source": [
    "xgb_models"
   ]
  },
  {
   "cell_type": "markdown",
   "metadata": {},
   "source": [
    "##### Save models "
   ]
  },
  {
   "cell_type": "code",
   "execution_count": 97,
   "metadata": {},
   "outputs": [],
   "source": [
    "# write the models to disk\n",
    "pickle.dump(rf_model, open(\"models/rf_model.sav\", 'wb'))"
   ]
  },
  {
   "cell_type": "code",
   "execution_count": 98,
   "metadata": {},
   "outputs": [],
   "source": [
    "pickle.dump(bayes_model, open(\"models/bayes_model.sav\", 'wb'))"
   ]
  },
  {
   "cell_type": "code",
   "execution_count": 99,
   "metadata": {},
   "outputs": [],
   "source": [
    "pickle.dump(xgb_model, open(\"models/xgb_model.sav\", 'wb'))"
   ]
  },
  {
   "cell_type": "code",
   "execution_count": null,
   "metadata": {},
   "outputs": [],
   "source": []
  },
  {
   "cell_type": "code",
   "execution_count": null,
   "metadata": {},
   "outputs": [],
   "source": []
  }
 ],
 "metadata": {
  "kernelspec": {
   "display_name": "Python 3",
   "language": "python",
   "name": "python3"
  },
  "language_info": {
   "codemirror_mode": {
    "name": "ipython",
    "version": 3
   },
   "file_extension": ".py",
   "mimetype": "text/x-python",
   "name": "python",
   "nbconvert_exporter": "python",
   "pygments_lexer": "ipython3",
   "version": "3.6.13"
  }
 },
 "nbformat": 4,
 "nbformat_minor": 4
}
