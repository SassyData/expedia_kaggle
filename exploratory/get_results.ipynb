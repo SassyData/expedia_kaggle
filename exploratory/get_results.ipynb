{
 "cells": [
  {
   "cell_type": "code",
   "execution_count": 1,
   "id": "e7877e4f",
   "metadata": {},
   "outputs": [],
   "source": [
    "import pickle\n",
    "import numpy as np\n",
    "import pandas as pd\n",
    "\n",
    "from proj_fns import preprocess_step, create_submission"
   ]
  },
  {
   "cell_type": "code",
   "execution_count": 2,
   "id": "226df7e3",
   "metadata": {},
   "outputs": [],
   "source": [
    "test_raw = pd.read_csv('data/test.csv')"
   ]
  },
  {
   "cell_type": "code",
   "execution_count": 3,
   "id": "8dabac77",
   "metadata": {},
   "outputs": [
    {
     "data": {
      "text/plain": [
       "['prop_price_with_discount_usd',\n",
       " 'prop_review_count',\n",
       " 'srch_hour',\n",
       " 'srch_visitor_visit_nbr',\n",
       " 'prop_discount',\n",
       " 'srch_bw_weeks',\n",
       " 'prop_key',\n",
       " 'prop_room_capacity',\n",
       " 'srch_ci_day',\n",
       " 'srch_co_day',\n",
       " 'srch_los',\n",
       " 'prop_review_score']"
      ]
     },
     "execution_count": 3,
     "metadata": {},
     "output_type": "execute_result"
    }
   ],
   "source": [
    "# Load top 12 vars df\n",
    "model_vars = pd.read_csv(\"models/top_12_feats.csv\")['0'].tolist()\n",
    "model_vars"
   ]
  },
  {
   "cell_type": "markdown",
   "id": "a981a3a0",
   "metadata": {},
   "source": [
    "##### Random Forest "
   ]
  },
  {
   "cell_type": "code",
   "execution_count": 4,
   "id": "948028d2",
   "metadata": {},
   "outputs": [
    {
     "data": {
      "text/html": [
       "<div>\n",
       "<style scoped>\n",
       "    .dataframe tbody tr th:only-of-type {\n",
       "        vertical-align: middle;\n",
       "    }\n",
       "\n",
       "    .dataframe tbody tr th {\n",
       "        vertical-align: top;\n",
       "    }\n",
       "\n",
       "    .dataframe thead th {\n",
       "        text-align: right;\n",
       "    }\n",
       "</style>\n",
       "<table border=\"1\" class=\"dataframe\">\n",
       "  <thead>\n",
       "    <tr style=\"text-align: right;\">\n",
       "      <th></th>\n",
       "      <th>srch_id</th>\n",
       "      <th>level_1</th>\n",
       "      <th>prop_key</th>\n",
       "      <th>score</th>\n",
       "    </tr>\n",
       "  </thead>\n",
       "  <tbody>\n",
       "    <tr>\n",
       "      <th>0</th>\n",
       "      <td>-2147403968</td>\n",
       "      <td>259644</td>\n",
       "      <td>289794</td>\n",
       "      <td>0.82</td>\n",
       "    </tr>\n",
       "    <tr>\n",
       "      <th>1</th>\n",
       "      <td>-2147403968</td>\n",
       "      <td>259637</td>\n",
       "      <td>358614</td>\n",
       "      <td>0.67</td>\n",
       "    </tr>\n",
       "    <tr>\n",
       "      <th>2</th>\n",
       "      <td>-2147403968</td>\n",
       "      <td>259625</td>\n",
       "      <td>270584</td>\n",
       "      <td>0.64</td>\n",
       "    </tr>\n",
       "    <tr>\n",
       "      <th>3</th>\n",
       "      <td>-2147403968</td>\n",
       "      <td>259661</td>\n",
       "      <td>3895289</td>\n",
       "      <td>0.51</td>\n",
       "    </tr>\n",
       "    <tr>\n",
       "      <th>4</th>\n",
       "      <td>-2147403968</td>\n",
       "      <td>259623</td>\n",
       "      <td>358698</td>\n",
       "      <td>0.49</td>\n",
       "    </tr>\n",
       "  </tbody>\n",
       "</table>\n",
       "</div>"
      ],
      "text/plain": [
       "      srch_id  level_1  prop_key  score\n",
       "0 -2147403968   259644    289794   0.82\n",
       "1 -2147403968   259637    358614   0.67\n",
       "2 -2147403968   259625    270584   0.64\n",
       "3 -2147403968   259661   3895289   0.51\n",
       "4 -2147403968   259623    358698   0.49"
      ]
     },
     "execution_count": 4,
     "metadata": {},
     "output_type": "execute_result"
    }
   ],
   "source": [
    "create_submission(test_raw, model_vars, sub_file_name=\"rf_12vars.csv\", model_file = \"rf_model.sav\")"
   ]
  },
  {
   "cell_type": "code",
   "execution_count": 5,
   "id": "33e9db59",
   "metadata": {},
   "outputs": [],
   "source": [
    "# Kaggle Score "
   ]
  },
  {
   "cell_type": "markdown",
   "id": "af13c984",
   "metadata": {},
   "source": [
    "##### Bayes"
   ]
  },
  {
   "cell_type": "code",
   "execution_count": 6,
   "id": "3e21dc2c",
   "metadata": {},
   "outputs": [
    {
     "data": {
      "text/html": [
       "<div>\n",
       "<style scoped>\n",
       "    .dataframe tbody tr th:only-of-type {\n",
       "        vertical-align: middle;\n",
       "    }\n",
       "\n",
       "    .dataframe tbody tr th {\n",
       "        vertical-align: top;\n",
       "    }\n",
       "\n",
       "    .dataframe thead th {\n",
       "        text-align: right;\n",
       "    }\n",
       "</style>\n",
       "<table border=\"1\" class=\"dataframe\">\n",
       "  <thead>\n",
       "    <tr style=\"text-align: right;\">\n",
       "      <th></th>\n",
       "      <th>srch_id</th>\n",
       "      <th>level_1</th>\n",
       "      <th>prop_key</th>\n",
       "      <th>score</th>\n",
       "    </tr>\n",
       "  </thead>\n",
       "  <tbody>\n",
       "    <tr>\n",
       "      <th>0</th>\n",
       "      <td>-2147403968</td>\n",
       "      <td>259632</td>\n",
       "      <td>364047</td>\n",
       "      <td>0.483268</td>\n",
       "    </tr>\n",
       "    <tr>\n",
       "      <th>1</th>\n",
       "      <td>-2147403968</td>\n",
       "      <td>259630</td>\n",
       "      <td>435600</td>\n",
       "      <td>0.477318</td>\n",
       "    </tr>\n",
       "    <tr>\n",
       "      <th>2</th>\n",
       "      <td>-2147403968</td>\n",
       "      <td>259656</td>\n",
       "      <td>286553</td>\n",
       "      <td>0.475881</td>\n",
       "    </tr>\n",
       "    <tr>\n",
       "      <th>3</th>\n",
       "      <td>-2147403968</td>\n",
       "      <td>259638</td>\n",
       "      <td>287805</td>\n",
       "      <td>0.470862</td>\n",
       "    </tr>\n",
       "    <tr>\n",
       "      <th>4</th>\n",
       "      <td>-2147403968</td>\n",
       "      <td>259623</td>\n",
       "      <td>358698</td>\n",
       "      <td>0.463023</td>\n",
       "    </tr>\n",
       "  </tbody>\n",
       "</table>\n",
       "</div>"
      ],
      "text/plain": [
       "      srch_id  level_1  prop_key     score\n",
       "0 -2147403968   259632    364047  0.483268\n",
       "1 -2147403968   259630    435600  0.477318\n",
       "2 -2147403968   259656    286553  0.475881\n",
       "3 -2147403968   259638    287805  0.470862\n",
       "4 -2147403968   259623    358698  0.463023"
      ]
     },
     "execution_count": 6,
     "metadata": {},
     "output_type": "execute_result"
    }
   ],
   "source": [
    "create_submission(test_raw, model_vars, sub_file_name=\"bayes_12vars.csv\", model_file = \"bayes_model.sav\")"
   ]
  },
  {
   "cell_type": "code",
   "execution_count": 7,
   "id": "8bcd1b3d",
   "metadata": {},
   "outputs": [],
   "source": [
    "# Kaggle Score  "
   ]
  },
  {
   "cell_type": "markdown",
   "id": "8af68d33",
   "metadata": {},
   "source": [
    "##### XGB - resampling & 12 vars "
   ]
  },
  {
   "cell_type": "code",
   "execution_count": 8,
   "id": "fa658855",
   "metadata": {},
   "outputs": [
    {
     "data": {
      "text/html": [
       "<div>\n",
       "<style scoped>\n",
       "    .dataframe tbody tr th:only-of-type {\n",
       "        vertical-align: middle;\n",
       "    }\n",
       "\n",
       "    .dataframe tbody tr th {\n",
       "        vertical-align: top;\n",
       "    }\n",
       "\n",
       "    .dataframe thead th {\n",
       "        text-align: right;\n",
       "    }\n",
       "</style>\n",
       "<table border=\"1\" class=\"dataframe\">\n",
       "  <thead>\n",
       "    <tr style=\"text-align: right;\">\n",
       "      <th></th>\n",
       "      <th>srch_id</th>\n",
       "      <th>level_1</th>\n",
       "      <th>prop_key</th>\n",
       "      <th>score</th>\n",
       "    </tr>\n",
       "  </thead>\n",
       "  <tbody>\n",
       "    <tr>\n",
       "      <th>0</th>\n",
       "      <td>-2147403968</td>\n",
       "      <td>259660</td>\n",
       "      <td>544714</td>\n",
       "      <td>0.595010</td>\n",
       "    </tr>\n",
       "    <tr>\n",
       "      <th>1</th>\n",
       "      <td>-2147403968</td>\n",
       "      <td>259654</td>\n",
       "      <td>271366</td>\n",
       "      <td>0.454486</td>\n",
       "    </tr>\n",
       "    <tr>\n",
       "      <th>2</th>\n",
       "      <td>-2147403968</td>\n",
       "      <td>259625</td>\n",
       "      <td>270584</td>\n",
       "      <td>0.431520</td>\n",
       "    </tr>\n",
       "    <tr>\n",
       "      <th>3</th>\n",
       "      <td>-2147403968</td>\n",
       "      <td>259634</td>\n",
       "      <td>296362</td>\n",
       "      <td>0.414150</td>\n",
       "    </tr>\n",
       "    <tr>\n",
       "      <th>4</th>\n",
       "      <td>-2147403968</td>\n",
       "      <td>259645</td>\n",
       "      <td>3076641</td>\n",
       "      <td>0.402025</td>\n",
       "    </tr>\n",
       "  </tbody>\n",
       "</table>\n",
       "</div>"
      ],
      "text/plain": [
       "      srch_id  level_1  prop_key     score\n",
       "0 -2147403968   259660    544714  0.595010\n",
       "1 -2147403968   259654    271366  0.454486\n",
       "2 -2147403968   259625    270584  0.431520\n",
       "3 -2147403968   259634    296362  0.414150\n",
       "4 -2147403968   259645   3076641  0.402025"
      ]
     },
     "execution_count": 8,
     "metadata": {},
     "output_type": "execute_result"
    }
   ],
   "source": [
    "create_submission(test_raw, model_vars, sub_file_name=\"xgb_12vars.csv\", model_file = \"xgb_model.sav\")"
   ]
  },
  {
   "cell_type": "code",
   "execution_count": 9,
   "id": "10d2a691",
   "metadata": {},
   "outputs": [],
   "source": [
    "# Kaggle Score 0.42768"
   ]
  },
  {
   "cell_type": "markdown",
   "id": "ddb9fe14",
   "metadata": {},
   "source": [
    "##### XGB - no sampling & all vars"
   ]
  },
  {
   "cell_type": "code",
   "execution_count": 10,
   "id": "4eba5514",
   "metadata": {},
   "outputs": [
    {
     "data": {
      "text/html": [
       "<div>\n",
       "<style scoped>\n",
       "    .dataframe tbody tr th:only-of-type {\n",
       "        vertical-align: middle;\n",
       "    }\n",
       "\n",
       "    .dataframe tbody tr th {\n",
       "        vertical-align: top;\n",
       "    }\n",
       "\n",
       "    .dataframe thead th {\n",
       "        text-align: right;\n",
       "    }\n",
       "</style>\n",
       "<table border=\"1\" class=\"dataframe\">\n",
       "  <thead>\n",
       "    <tr style=\"text-align: right;\">\n",
       "      <th></th>\n",
       "      <th>srch_id</th>\n",
       "      <th>level_1</th>\n",
       "      <th>prop_key</th>\n",
       "      <th>score</th>\n",
       "    </tr>\n",
       "  </thead>\n",
       "  <tbody>\n",
       "    <tr>\n",
       "      <th>0</th>\n",
       "      <td>-2147403968</td>\n",
       "      <td>259644</td>\n",
       "      <td>289794</td>\n",
       "      <td>0.084488</td>\n",
       "    </tr>\n",
       "    <tr>\n",
       "      <th>1</th>\n",
       "      <td>-2147403968</td>\n",
       "      <td>259660</td>\n",
       "      <td>544714</td>\n",
       "      <td>0.079667</td>\n",
       "    </tr>\n",
       "    <tr>\n",
       "      <th>2</th>\n",
       "      <td>-2147403968</td>\n",
       "      <td>259623</td>\n",
       "      <td>358698</td>\n",
       "      <td>0.072742</td>\n",
       "    </tr>\n",
       "    <tr>\n",
       "      <th>3</th>\n",
       "      <td>-2147403968</td>\n",
       "      <td>259652</td>\n",
       "      <td>3392809</td>\n",
       "      <td>0.048401</td>\n",
       "    </tr>\n",
       "    <tr>\n",
       "      <th>4</th>\n",
       "      <td>-2147403968</td>\n",
       "      <td>259637</td>\n",
       "      <td>358614</td>\n",
       "      <td>0.043508</td>\n",
       "    </tr>\n",
       "  </tbody>\n",
       "</table>\n",
       "</div>"
      ],
      "text/plain": [
       "      srch_id  level_1  prop_key     score\n",
       "0 -2147403968   259644    289794  0.084488\n",
       "1 -2147403968   259660    544714  0.079667\n",
       "2 -2147403968   259623    358698  0.072742\n",
       "3 -2147403968   259652   3392809  0.048401\n",
       "4 -2147403968   259637    358614  0.043508"
      ]
     },
     "execution_count": 10,
     "metadata": {},
     "output_type": "execute_result"
    }
   ],
   "source": [
    "create_submission(test_raw, \n",
    "                  model_vars = None, \n",
    "                  sub_file_name=\"xgb_model_allvars_nosampling.csv\", \n",
    "                  model_file = \"xgb_model_allvars_nosampling.sav\")"
   ]
  },
  {
   "cell_type": "code",
   "execution_count": 11,
   "id": "9397b9bb",
   "metadata": {},
   "outputs": [],
   "source": [
    "# model_vars = None\n",
    "# sub_file_name=\"xgb_model_allvars_nosampling.csv\"\n",
    "# model_file = \"xgb_model_allvars_nosampling.sav\"\n",
    "# # Process test data\n",
    "# test_clean = preprocess_step(test_raw)\n",
    "# model = pickle.load(open(\"models/\" + model_file, 'rb'))\n",
    "# # Get results\n",
    "# test_set = test_clean[model_vars] if model_vars else test_clean\n",
    "\n",
    "# test_pred_prob = model.predict_proba(test_set)\n",
    "# # Take p value for boolian booking = 1\n",
    "# booking_p = [b for a, b in test_pred_prob]\n",
    "\n",
    "# # Create submission df\n",
    "# submission = test_raw[['srch_id', 'prop_key']].copy()\n",
    "# submission['score'] = booking_p\n",
    "# Sort according to competition rules\n",
    "# sorted_sub = submission.groupby(['srch_id'])[['prop_key', 'score']].apply(\n",
    "#     lambda x: x.sort_values('score', ascending=False)).reset_index()\n",
    "# final_sorted_sub = sorted_sub.drop(['level_1', 'score'], axis=1)\n",
    "\n",
    "# # Export submission data\n",
    "# final_sorted_sub.to_csv(\"submissions/\" + sub_file_name, header=True, index=False)\n"
   ]
  },
  {
   "cell_type": "code",
   "execution_count": null,
   "id": "076a77cb",
   "metadata": {},
   "outputs": [],
   "source": []
  }
 ],
 "metadata": {
  "kernelspec": {
   "display_name": "Python 3",
   "language": "python",
   "name": "python3"
  },
  "language_info": {
   "codemirror_mode": {
    "name": "ipython",
    "version": 3
   },
   "file_extension": ".py",
   "mimetype": "text/x-python",
   "name": "python",
   "nbconvert_exporter": "python",
   "pygments_lexer": "ipython3",
   "version": "3.6.13"
  }
 },
 "nbformat": 4,
 "nbformat_minor": 5
}
